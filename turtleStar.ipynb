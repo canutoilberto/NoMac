{
  "nbformat": 4,
  "nbformat_minor": 0,
  "metadata": {
    "colab": {
      "name": "turtleStar.ipynb",
      "provenance": [],
      "authorship_tag": "ABX9TyN5fIKqCjpI3UhTyQuohwh2",
      "include_colab_link": true
    },
    "kernelspec": {
      "name": "python3",
      "display_name": "Python 3"
    },
    "language_info": {
      "name": "python"
    }
  },
  "cells": [
    {
      "cell_type": "markdown",
      "metadata": {
        "id": "view-in-github",
        "colab_type": "text"
      },
      "source": [
        "<a href=\"https://colab.research.google.com/github/canutoilberto/NoMac/blob/main/turtleStar.ipynb\" target=\"_parent\"><img src=\"https://colab.research.google.com/assets/colab-badge.svg\" alt=\"Open In Colab\"/></a>"
      ]
    },
    {
      "cell_type": "code",
      "metadata": {
        "id": "HeXNV2Gq8Od2"
      },
      "source": [
        "import turtle\n",
        "\n",
        "col = ['red', 'yellow','green','cyan','blue','white']\n",
        "\n",
        "t = turtle.Turtle()\n",
        "screen = turtle.Screen()\n",
        "screen.bgcolor('black')\n",
        "t.speed(30)\n",
        "\n",
        "for i in range(100):\n",
        "    t.color(col[i%6])\n",
        "    t.forward(i*4)\n",
        "    t.left(150)\n",
        "    t.width(2)\n"
      ],
      "execution_count": null,
      "outputs": []
    }
  ]
}