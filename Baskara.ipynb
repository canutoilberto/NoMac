{
  "nbformat": 4,
  "nbformat_minor": 0,
  "metadata": {
    "colab": {
      "name": "Untitled0.ipynb",
      "provenance": [],
      "authorship_tag": "ABX9TyNFvbnFSoVepgzggvg1GRxt",
      "include_colab_link": true
    },
    "kernelspec": {
      "name": "python3",
      "display_name": "Python 3"
    },
    "language_info": {
      "name": "python"
    }
  },
  "cells": [
    {
      "cell_type": "markdown",
      "metadata": {
        "id": "view-in-github",
        "colab_type": "text"
      },
      "source": [
        "<a href=\"https://colab.research.google.com/github/canutoilberto/NoMac/blob/main/Baskara.ipynb\" target=\"_parent\"><img src=\"https://colab.research.google.com/assets/colab-badge.svg\" alt=\"Open In Colab\"/></a>"
      ]
    },
    {
      "cell_type": "code",
      "metadata": {
        "id": "reXTVzTIXwsP"
      },
      "source": [
        "def Bask(a, b, c):\n",
        "  delta = (b ** 2) - (4 * a * c)\n",
        "\n",
        "  x1 = (-b + delta ** (1 / 2)) / (2 * a)\n",
        "  x2 = (- b - delta ** (1 / 2)) / (2 * a)\n",
        "\n",
        "\n",
        "  print(f'Valor de x1: {x1:.1f}')\n",
        "  print(f'valor de x2: {x2:.1f}')\n",
        "\n",
        "\n",
        "if __name__ == '__main__':\n",
        "  while True:\n",
        "    print('Calculando as raízes da equação do 2º grau\\n')\n",
        "\n",
        "    a = float(input('Digite um valor para a: '))\n",
        "    b = float(input('Digite um valor para b: '))\n",
        "    c = float(input('Digite um valor para c: '))\n",
        "\n",
        "    Bask(a, b, c)\n",
        "\n",
        "    resp = str(input('Deseja continuar para um novo calculo? [S/N] ')).upper()[0]\n",
        "    if resp in 'Nn':\n",
        "      break"
      ],
      "execution_count": null,
      "outputs": []
    },
    {
      "cell_type": "code",
      "metadata": {
        "id": "rEkGSOv1ZYHn"
      },
      "source": [
        ""
      ],
      "execution_count": null,
      "outputs": []
    }
  ]
}