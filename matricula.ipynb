{
  "nbformat": 4,
  "nbformat_minor": 0,
  "metadata": {
    "colab": {
      "name": "matricula.ipynb",
      "provenance": [],
      "collapsed_sections": [],
      "authorship_tag": "ABX9TyMKRoULWtHDQ5F22TNnLGwi",
      "include_colab_link": true
    },
    "kernelspec": {
      "name": "python3",
      "display_name": "Python 3"
    }
  },
  "cells": [
    {
      "cell_type": "markdown",
      "metadata": {
        "id": "view-in-github",
        "colab_type": "text"
      },
      "source": [
        "<a href=\"https://colab.research.google.com/github/canutoilberto/NoMac/blob/main/matricula.ipynb\" target=\"_parent\"><img src=\"https://colab.research.google.com/assets/colab-badge.svg\" alt=\"Open In Colab\"/></a>"
      ]
    },
    {
      "cell_type": "code",
      "metadata": {
        "id": "XRGfKq6CZ4Dy"
      },
      "source": [
        "from datetime import date\n",
        "from time import sleep\n",
        "\n",
        "def lin():\n",
        "  print('='*50)\n",
        "\n",
        "\n",
        "lin()\n",
        "print('{:^50}'.format('Cadastro de Matrícula 2021'))\n",
        "lin()\n",
        "lin()\n",
        "al = str(input('Aluno(a): '))\n",
        "atual = date.today().year\n",
        "dt = int(input('Ano de nascimento: '))\n",
        "lin()\n",
        "idade = atual - dt\n",
        "sleep(1)\n",
        "while True:\n",
        "  print(f'O estudante que nasceu em {dt} tem {idade} em {atual}.')\n",
        "  if idade < 18:\n",
        "    print('Aluno(a) em idade escolar OBRIGATÓRIA.')\n",
        "  else:\n",
        "    print('Matrículas para o EJA a partir de 22/03.')\n",
        "  sleep(1)\n",
        "  lin()\n",
        "  opcao = str(input('Egresso da rede pública [S/N] ')).strip().upper()[0]\n",
        "  lin()\n",
        "#Hora de definir os IF's\n",
        "  if opcao == 'S':\n",
        "    esc = str(input('Escola atual: '))\n",
        "    ser = int(input('Série atual: '))\n",
        "    print('Matrícula efetuada com sucesso. Obrigado!')\n",
        "    break\n",
        "  elif opcao == 'N':\n",
        "    escP = str(input('Escola Particular: '))\n",
        "    hist = input('Anexe o histórico escolar: ')\n",
        "    tel = int(input('Telefone para contato: '))\n",
        "    print('Em breve entraremos em contato para confirmação da matrícula.')\n",
        "    break\n",
        "  else:\n",
        "    print('Opção Inválida.')    \n",
        "    break\n",
        "lin()    \n",
        "sleep(2)    \n",
        "print('A Séc. de Educação Municipal agradece.')\n",
        "#até aqui tudo certo (hora de inventar moda hehehehe...)."
      ],
      "execution_count": null,
      "outputs": []
    }
  ]
}