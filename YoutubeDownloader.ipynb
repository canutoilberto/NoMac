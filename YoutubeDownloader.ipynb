{
  "nbformat": 4,
  "nbformat_minor": 0,
  "metadata": {
    "colab": {
      "name": "YoutubeDownloader.ipynb",
      "provenance": [],
      "authorship_tag": "ABX9TyN98papAmVDNfglsWDW9RlK",
      "include_colab_link": true
    },
    "kernelspec": {
      "name": "python3",
      "display_name": "Python 3"
    },
    "language_info": {
      "name": "python"
    }
  },
  "cells": [
    {
      "cell_type": "markdown",
      "metadata": {
        "id": "view-in-github",
        "colab_type": "text"
      },
      "source": [
        "<a href=\"https://colab.research.google.com/github/canutoilberto/NoMac/blob/main/YoutubeDownloader.ipynb\" target=\"_parent\"><img src=\"https://colab.research.google.com/assets/colab-badge.svg\" alt=\"Open In Colab\"/></a>"
      ]
    },
    {
      "cell_type": "code",
      "metadata": {
        "id": "Kshs413YXGiS"
      },
      "source": [
        "pip install pytube"
      ],
      "execution_count": null,
      "outputs": []
    },
    {
      "cell_type": "code",
      "metadata": {
        "id": "of40L7DGXJRE"
      },
      "source": [
        "import pytube"
      ],
      "execution_count": null,
      "outputs": []
    },
    {
      "cell_type": "code",
      "metadata": {
        "id": "X3nQyYnAXTyd"
      },
      "source": [
        "url = input('Link do vídeo: ')\n",
        "\n",
        "yt = pytube.YouTube(url)\n",
        "\n",
        "print(f'O vídeo está sendo baixado {yt.title}')\n",
        "\n",
        "video = yt.streams.first()\n",
        "video.download()\n"
      ],
      "execution_count": null,
      "outputs": []
    }
  ]
}