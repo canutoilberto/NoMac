{
  "nbformat": 4,
  "nbformat_minor": 0,
  "metadata": {
    "colab": {
      "name": "ageCalculator.ipynb",
      "provenance": [],
      "authorship_tag": "ABX9TyM1ETUAlgbeYaXcnvDdXscH",
      "include_colab_link": true
    },
    "kernelspec": {
      "name": "python3",
      "display_name": "Python 3"
    },
    "language_info": {
      "name": "python"
    }
  },
  "cells": [
    {
      "cell_type": "markdown",
      "metadata": {
        "id": "view-in-github",
        "colab_type": "text"
      },
      "source": [
        "<a href=\"https://colab.research.google.com/github/canutoilberto/NoMac/blob/main/ageCalculator.ipynb\" target=\"_parent\"><img src=\"https://colab.research.google.com/assets/colab-badge.svg\" alt=\"Open In Colab\"/></a>"
      ]
    },
    {
      "cell_type": "code",
      "metadata": {
        "id": "gko380uF5tYS"
      },
      "source": [
        "from tkinter import *\n",
        "from datetime import date\n",
        "\n",
        "root = Tk()\n",
        "root.geometry('700x500')\n",
        "root.title('Calculadora de Idade')\n",
        "\n",
        "\n",
        "def calculateAge():\n",
        "    today = date.today()\n",
        "    birthDate = date(int(yearEntry.get()),\n",
        "    int(monthEntry.get()), int(dayEntry.get()))\n",
        "    age = today.year - birthDate.year - ((today.month, today.day) < (birthDate.month, birthDate.day))\n",
        "    Label(text=f\"{nameValue.get()}, your age is {age}\").grid(row=6, column=1) \n",
        "\n",
        "\n",
        "Label(text='Name').grid(row=1, column=0, padx=90)\n",
        "Label(text='Year').grid(row=2, column=0)\n",
        "Label(text='Month').grid(row=3, column=0)\n",
        "Label(text='Day').grid(row=4, column=0)\n",
        "nameValue = StringVar()\n",
        "yearValue = StringVar()\n",
        "monthValue = StringVar()\n",
        "dayValue = StringVar()\n",
        "\n",
        "nameEntry = Entry(root, textvariable=nameValue)\n",
        "yearEntry = Entry(root, textvariable=yearValue)\n",
        "monthEntry = Entry(root, textvariable=monthValue)\n",
        "dayEntry = Entry(root, textvariable=dayValue)\n",
        "\n",
        "nameEntry.grid(row=1, column=1, pady=10)\n",
        "yearEntry.grid(row=2, column=1, pady=10)\n",
        "monthEntry.grid(row=3, column=1, pady=10)\n",
        "dayEntry.grid(row=4, column=1, pady=10)\n",
        "Button(text='Calculate Age', command=calculateAge).grid(row=5, column=1, pady= 10)\n",
        "\n",
        "root.mainloop()"
      ],
      "execution_count": null,
      "outputs": []
    }
  ]
}